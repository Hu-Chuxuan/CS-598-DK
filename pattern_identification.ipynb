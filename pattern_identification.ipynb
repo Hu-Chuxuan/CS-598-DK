{
 "cells": [
  {
   "cell_type": "markdown",
   "metadata": {},
   "source": [
    "## Dataset Loading\n",
    "\n",
    "In this step, we load and get an overview of the dataset."
   ]
  },
  {
   "cell_type": "code",
   "execution_count": 16,
   "metadata": {
    "vscode": {
     "languageId": "python"
    }
   },
   "outputs": [],
   "source": [
    "from datasets import load_dataset\n",
    "\n",
    "ds = load_dataset(\"hendrydong/preference_700K\")"
   ]
  },
  {
   "cell_type": "code",
   "execution_count": 18,
   "metadata": {
    "vscode": {
     "languageId": "python"
    }
   },
   "outputs": [
    {
     "data": {
      "text/plain": [
       "[{'content': 'Is having your medical records online safe?', 'role': 'user'},\n",
       " {'content': 'You mean being able to share them with your doctor, or making them public to the internet in general?',\n",
       "  'role': 'assistant'}]"
      ]
     },
     "execution_count": 34,
     "metadata": {},
     "output_type": "execute_result"
    }
   ],
   "source": [
    "# show an example of the dataset\n",
    "ds['train']['rejected'][0]"
   ]
  },
  {
   "cell_type": "markdown",
   "metadata": {},
   "source": [
    "## Pattern Setup\n",
    "\n",
    "In this step, we set up the patterns and define experiment metrics."
   ]
  },
  {
   "cell_type": "code",
   "execution_count": 19,
   "metadata": {
    "vscode": {
     "languageId": "python"
    }
   },
   "outputs": [],
   "source": [
    "import re\n",
    "\n",
    "format_compile_list = {\n",
    "    \"bold\": r'\\*\\*(.*?)\\*\\*',              # Matches bold text format\n",
    "    # Matches uppercase words (3 or more letters)\n",
    "    # \"uppercase\": r'\\b[A-Z]{3,}\\b',\n",
    "    \"list\": r'(?m)^\\d+\\.\\s|^[*+-]\\s',          # Matches list item format\n",
    "    \"exclamation\": r'!',                 # Matches exclamation marks\n",
    "    \"link\": r'http[^\\)]*',  # Matches link format\n",
    "    \"emoji\": re.compile(\n",
    "        # r\"\\s*\"  # Preceding spaces\n",
    "        r\"([\\U0001F600-\\U0001F64F]\"  # Emoticons\n",
    "        r\"|[\\U0001F300-\\U0001F5FF]\"  # Miscellaneous Symbols and Pictographs\n",
    "        r\"|[\\U0001F680-\\U0001F6FF]\"  # Transport and Map Symbols\n",
    "        r\"|[\\U0001F1E0-\\U0001F1FF]\"  # Flags (iOS)\n",
    "        r\"|[\\U00002700-\\U000027BF]\"  # Dingbats\n",
    "        r\"|[\\U0001F900-\\U0001F9FF]\"  # Supplemental Symbols and Pictographs\n",
    "        r\"|[\\U0001FA70-\\U0001FAFF]\"  # Symbols and Pictographs Extended-A\n",
    "        r\"|[\\U00002600-\\U000026FF]\"  # Miscellaneous Symbols\n",
    "        r\")\",\n",
    "        re.UNICODE\n",
    "    ),\n",
    "    # Capitalizations\n",
    "    \"capitalization\": r'\\b[A-Z]+\\b', # fully capitalized words\n",
    "    \"quotes\": r'[\\\"]'\n",
    "}\n",
    "\n",
    "def has_pattern(response, augment_type=None):\n",
    "    try:\n",
    "        if augment_type is None:\n",
    "            for pattern in list(format_compile_list.values()):\n",
    "                if re.search(pattern, response) is not None:\n",
    "                    return True\n",
    "            if response.startswith(\"Sure\") or response.startswith(\"Certainly\") or response.startswith(\"Of course\"):\n",
    "                return True\n",
    "\n",
    "            return False\n",
    "\n",
    "        if augment_type in list(format_compile_list.keys()):\n",
    "            if re.search(format_compile_list[augment_type], response) is None:\n",
    "                return False\n",
    "        elif augment_type == \"affirmative\":\n",
    "            return response.startswith(\"Sure\") or response.startswith(\"Certainly\") or response.startswith(\"Of course\")\n",
    "\n",
    "        return True\n",
    "    except Exception as e:\n",
    "        return False"
   ]
  },
  {
   "cell_type": "code",
   "execution_count": 20,
   "metadata": {
    "vscode": {
     "languageId": "python"
    }
   },
   "outputs": [],
   "source": [
    "# for each prompt, check whether each pattern contained in the chosen and rejected responses\n",
    "from tqdm import tqdm\n",
    "def count_pairwise_patterns(patterns):\n",
    "    print(f\"Total number of samples: {len(ds['train'])}\")\n",
    "    pattern_cnts = {pattern: [] for pattern in patterns}\n",
    "    for d in tqdm(ds['train']):\n",
    "        prefered_response = d['chosen'][1]['content']\n",
    "        unpreferrable_response = d['rejected'][1]['content']\n",
    "        for pattern in patterns:\n",
    "            pattern_cnts[pattern].append(((has_pattern(prefered_response, pattern)), has_pattern(unpreferrable_response, pattern)))\n",
    "    return pattern_cnts\n",
    "    "
   ]
  },
  {
   "cell_type": "code",
   "execution_count": 21,
   "metadata": {
    "vscode": {
     "languageId": "python"
    }
   },
   "outputs": [
    {
     "name": "stdout",
     "output_type": "stream",
     "text": [
      "Total number of samples: 700000\n"
     ]
    },
    {
     "name": "stderr",
     "output_type": "stream",
     "text": [
      "100%|████████████████████████████████████████████████████████████████████████████████████████████████| 700000/700000 [01:45<00:00, 6619.83it/s]\n"
     ]
    }
   ],
   "source": [
    "# get the results of all of the existence patterns\n",
    "pattern_cnts = count_pairwise_patterns([\"bold\", \"list\", \"exclamation\", \"link\", \"emoji\", \"affirmative\", \"capitalization\", \"quotes\"])"
   ]
  },
  {
   "cell_type": "code",
   "execution_count": 22,
   "metadata": {
    "vscode": {
     "languageId": "python"
    }
   },
   "outputs": [],
   "source": [
    "# based on the results, calculate the statistics\n",
    "import numpy as np\n",
    "def get_calculated_stats(pattern):\n",
    "    print(pattern)\n",
    "    data = np.array(pattern_cnts[pattern])\n",
    "    # filter out the ones that both are false\n",
    "    data = data[np.logical_or(data[:, 0], data[:, 1])]\n",
    "    preferred_percentage = np.sum(data[:, 0]) / len(data)\n",
    "    unpreferrable_percentage = np.sum(data[:, 1]) / len(data)\n",
    "    print(f\"Preferred percentage: {preferred_percentage*100:.2f}\")\n",
    "    print(f\"Unpreferrable percentage: {unpreferrable_percentage*100:.2f}\")\n",
    "    return (preferred_percentage, unpreferrable_percentage)\n"
   ]
  },
  {
   "cell_type": "markdown",
   "metadata": {},
   "source": [
    "## Pattern Verification\n",
    "\n",
    "In this step, we calculate the statistics of the patterns."
   ]
  },
  {
   "cell_type": "markdown",
   "metadata": {},
   "source": [
    "### Existence Patterns"
   ]
  },
  {
   "cell_type": "code",
   "execution_count": 23,
   "metadata": {
    "vscode": {
     "languageId": "python"
    }
   },
   "outputs": [
    {
     "name": "stdout",
     "output_type": "stream",
     "text": [
      "bold\n",
      "Preferred percentage: 65.18\n",
      "Unpreferrable percentage: 46.91\n",
      "list\n",
      "Preferred percentage: 80.87\n",
      "Unpreferrable percentage: 57.98\n",
      "exclamation\n",
      "Preferred percentage: 61.70\n",
      "Unpreferrable percentage: 64.04\n",
      "link\n",
      "Preferred percentage: 65.29\n",
      "Unpreferrable percentage: 52.75\n",
      "emoji\n",
      "Preferred percentage: 47.99\n",
      "Unpreferrable percentage: 59.33\n",
      "affirmative\n",
      "Preferred percentage: 64.56\n",
      "Unpreferrable percentage: 60.24\n",
      "capitalization\n",
      "Preferred percentage: 79.95\n",
      "Unpreferrable percentage: 78.21\n",
      "quotes\n",
      "Preferred percentage: 71.22\n",
      "Unpreferrable percentage: 61.27\n",
      "[(np.float64(0.6517821061989817), np.float64(0.46908591287480805)), (np.float64(0.8087160327663425), np.float64(0.5797616008787196)), (np.float64(0.6170355117978532), np.float64(0.640365903598475)), (np.float64(0.6528883832638099), np.float64(0.5275354990940884)), (np.float64(0.4799282659677197), np.float64(0.5933232169954477)), (np.float64(0.6455536155096634), np.float64(0.6023541453428863)), (np.float64(0.7995271754704365), np.float64(0.7820795595654704)), (np.float64(0.7122142983141395), np.float64(0.612700652672429))]\n",
      "65.18,80.87,61.70,65.29,47.99,64.56,79.95,71.22\n",
      "46.91,57.98,64.04,52.75,59.33,60.24,78.21,61.27\n"
     ]
    }
   ],
   "source": [
    "results = []\n",
    "for pattern in [\"bold\", \"list\", \"exclamation\", \"link\", \"emoji\", \"affirmative\", \"capitalization\", \"quotes\"]:\n",
    "    results.append(get_calculated_stats(pattern))\n",
    "print(results)\n",
    "print(','.join([f\"{r[0]*100:.2f}\" for r in results]))\n",
    "print(','.join([f\"{r[1]*100:.2f}\" for r in results]))"
   ]
  },
  {
   "cell_type": "markdown",
   "metadata": {},
   "source": [
    "### Numerical Patterns"
   ]
  },
  {
   "cell_type": "code",
   "execution_count": 27,
   "metadata": {
    "vscode": {
     "languageId": "python"
    }
   },
   "outputs": [],
   "source": [
    "# punctuation\n",
    "def punctuation_percentage(text):\n",
    "    punctuation_pattern = r'[!\"#$%&\\'()*+,-./:;<=>?@\\[\\\\\\]^_`{|}~]'\n",
    "    punctuation_count = len(re.findall(punctuation_pattern, text))\n",
    "    words = text.split()\n",
    "    word_count = len(words)\n",
    "    return punctuation_count/word_count if word_count > 0 else 0"
   ]
  },
  {
   "cell_type": "code",
   "execution_count": null,
   "metadata": {
    "vscode": {
     "languageId": "python"
    }
   },
   "outputs": [
    {
     "name": "stdout",
     "output_type": "stream",
     "text": [
      "Total number of samples: 700000\n",
      "punctuation_percentage\n",
      "rejected\n"
     ]
    },
    {
     "name": "stderr",
     "output_type": "stream",
     "text": [
      "100%|███████████████████████████████████████████████████████████████████████████████████████████████| 700000/700000 [00:10<00:00, 66229.59it/s]\n"
     ]
    },
    {
     "name": "stdout",
     "output_type": "stream",
     "text": [
      "chosen\n"
     ]
    },
    {
     "name": "stderr",
     "output_type": "stream",
     "text": [
      "100%|███████████████████████████████████████████████████████████████████████████████████████████████| 700000/700000 [00:12<00:00, 55080.64it/s]\n"
     ]
    }
   ],
   "source": [
    "print(f\"Total number of samples: {len(ds['train'])}\")\n",
    "print(\"punctuation_percentage\")\n",
    "import numpy as np\n",
    "punctuation_scores = {}\n",
    "for preference in ['rejected', 'chosen']:\n",
    "    print(preference)\n",
    "    scores = []\n",
    "    for d in tqdm(ds['train'][preference]):\n",
    "        response = d[1]['content']\n",
    "        assert d[1]['role'] == 'assistant'\n",
    "        pp = punctuation_percentage(response)\n",
    "        scores.append(pp)\n",
    "    punctuation_scores[preference] = scores"
   ]
  },
  {
   "cell_type": "code",
   "execution_count": 35,
   "metadata": {
    "vscode": {
     "languageId": "python"
    }
   },
   "outputs": [
    {
     "name": "stdout",
     "output_type": "stream",
     "text": [
      "Preferred: 28.10221699982017 (49.24)\n",
      "Unpreferred: 28.414209369519234 (123.44)\n"
     ]
    }
   ],
   "source": [
    "preferred_scores = np.array(punctuation_scores['chosen']) *100\n",
    "unpreferred_scores = np.array(punctuation_scores['rejected']) *100\n",
    "\n",
    "print(f\"Preferred: {preferred_scores.mean()} ({preferred_scores.std():.2f})\")\n",
    "print(f\"Unpreferred: {unpreferred_scores.mean()} ({unpreferred_scores.std():.2f})\")"
   ]
  },
  {
   "cell_type": "code",
   "execution_count": 14,
   "metadata": {
    "vscode": {
     "languageId": "python"
    }
   },
   "outputs": [
    {
     "name": "stderr",
     "output_type": "stream",
     "text": [
      "[nltk_data] Downloading package punkt to /home/qiusiz2/nltk_data...\n",
      "[nltk_data]   Package punkt is already up-to-date!\n"
     ]
    }
   ],
   "source": [
    "# Repetition\n",
    "\n",
    "from collections import Counter\n",
    "import nltk\n",
    "\n",
    "# Download the NLTK package for tokenization (if not installed)\n",
    "nltk.download('punkt')\n",
    "\n",
    "def calculate_repetition_rate(text):\n",
    "    # Tokenize the text into words\n",
    "    words = nltk.word_tokenize(text.lower())  # Lowercasing to ensure case insensitivity\n",
    "    repetition_rate_ngrams = {}\n",
    "    for n in range(1, 6):\n",
    "        # Generate n-grams from the tokenized words\n",
    "        ngrams = list(nltk.ngrams(words, n))\n",
    "\n",
    "        # Count the frequency of each n-gram\n",
    "        ngram_counts = Counter(ngrams)\n",
    "\n",
    "        # Find the number of repeated n-grams\n",
    "        repeated_ngrams = sum(1 for count in ngram_counts.values() if count > 1)\n",
    "\n",
    "        # Calculate total number of n-grams\n",
    "        total_ngrams = len(ngrams)\n",
    "\n",
    "\n",
    "        # Calculate repetition rate\n",
    "        repetition_rate = repeated_ngrams / total_ngrams if total_ngrams else 0\n",
    "        repetition_rate_ngrams[n] = repetition_rate\n",
    "    return repetition_rate_ngrams\n"
   ]
  },
  {
   "cell_type": "code",
   "execution_count": 15,
   "metadata": {
    "vscode": {
     "languageId": "python"
    }
   },
   "outputs": [
    {
     "name": "stdout",
     "output_type": "stream",
     "text": [
      "Total number of samples: 700000\n",
      "repetition\n",
      "rejected\n"
     ]
    },
    {
     "name": "stderr",
     "output_type": "stream",
     "text": [
      "100%|████████████████████████████████████████████████████████████████████████████████████████████████| 700000/700000 [10:27<00:00, 1115.44it/s]\n"
     ]
    },
    {
     "name": "stdout",
     "output_type": "stream",
     "text": [
      "chosen\n"
     ]
    },
    {
     "name": "stderr",
     "output_type": "stream",
     "text": [
      "100%|█████████████████████████████████████████████████████████████████████████████████████████████████| 700000/700000 [12:30<00:00, 933.14it/s]\n"
     ]
    }
   ],
   "source": [
    "print(f\"Total number of samples: {len(ds['train'])}\")\n",
    "print(\"repetition\")\n",
    "import numpy as np\n",
    "repetition_scores = {}\n",
    "for preference in ['rejected', 'chosen']:\n",
    "    print(preference)\n",
    "    scores = []\n",
    "    for d in tqdm(ds['train'][preference]):\n",
    "        response = d[1]['content']\n",
    "        assert d[1]['role'] == 'assistant'\n",
    "        score = calculate_repetition_rate(response)\n",
    "        scores.append(score)\n",
    "    repetition_scores[preference] = scores"
   ]
  },
  {
   "cell_type": "code",
   "execution_count": 13,
   "metadata": {
    "vscode": {
     "languageId": "python"
    }
   },
   "outputs": [
    {
     "name": "stdout",
     "output_type": "stream",
     "text": [
      "n=1\n",
      "Preferred: 15.190755553980834 (5.75)\n",
      "Unpreferred: 14.7077576515241 (6.27)\n",
      "difference: 0.48299790245673435\n",
      "n=2\n",
      "Preferred: 8.830318939537486 (7.05)\n",
      "Unpreferred: 8.203221866504123 (7.31)\n",
      "difference: 0.6270970730333634\n",
      "n=3\n",
      "Preferred: 5.1840335682052965 (5.99)\n",
      "Unpreferred: 4.9410111919508415 (6.18)\n",
      "difference: 0.243022376254455\n",
      "n=4\n",
      "Preferred: 3.467355996497633 (5.10)\n",
      "Unpreferred: 3.377669896455763 (5.26)\n",
      "difference: 0.08968610004186983\n",
      "n=5\n",
      "Preferred: 2.502923171625915 (4.40)\n",
      "Unpreferred: 2.4815712000947743 (4.56)\n",
      "difference: 0.021351971531140546\n"
     ]
    }
   ],
   "source": [
    "import numpy as np\n",
    "for n in range(1, 6):\n",
    "    # print(repetition_scores['chosen'][0][n])\n",
    "    # for index, score in enumerate(repetition_scores['chosen']):\n",
    "    #     print(score)\n",
    "    #     print(index, score[n])\n",
    "    preferred_scores = np.array([score[n]*100 for score in repetition_scores['chosen']])\n",
    "    unpreferred_scores = np.array([score[n]*100 for score in repetition_scores['rejected']])\n",
    "    print(f\"n={n}\")\n",
    "    print(f\"Preferred: {preferred_scores.mean()} ({preferred_scores.std():.2f})\")\n",
    "    print(f\"Unpreferred: {unpreferred_scores.mean()} ({unpreferred_scores.std():.2f})\")\n",
    "    print(f\"difference: {preferred_scores.mean() - unpreferred_scores.mean()}\")"
   ]
  }
 ],
 "metadata": {
  "kernelspec": {
   "display_name": "Python 3 (ipykernel)",
   "language": "python",
   "name": "python3"
  },
  "language_info": {
   "codemirror_mode": {
    "name": "ipython",
    "version": 3
   },
   "file_extension": ".py",
   "mimetype": "text/x-python",
   "name": "python",
   "nbconvert_exporter": "python",
   "pygments_lexer": "ipython3",
   "version": "3.11.5"
  }
 },
 "nbformat": 4,
 "nbformat_minor": 2
}
